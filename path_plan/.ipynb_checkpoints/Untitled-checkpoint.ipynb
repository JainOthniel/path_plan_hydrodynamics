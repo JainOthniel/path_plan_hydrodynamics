{
 "cells": [
  {
   "cell_type": "code",
   "execution_count": null,
   "id": "f234dc25-167f-43a8-84db-9c26f6fcbb96",
   "metadata": {},
   "outputs": [],
   "source": []
  },
  {
   "cell_type": "code",
   "execution_count": null,
   "id": "c65d8cd7-6999-4539-81ee-5db160367242",
   "metadata": {
    "tags": []
   },
   "outputs": [],
   "source": [
    "import numpy as np\n",
    "import matplotlib.pyplot as plt\n",
    "import random\n",
    "import math as m\n",
    "import pandas as pd"
   ]
  },
  {
   "cell_type": "code",
   "execution_count": null,
   "id": "571a303c-645f-4fd3-9822-5ec9d219a066",
   "metadata": {
    "tags": []
   },
   "outputs": [],
   "source": [
    "l_min = 0\n",
    "l_total = 64\n",
    "a0 = 3.0\n",
    "dh = 0.5\n",
    "amax = a0 + dh\n",
    "hmax = 2*a0 + dh\n",
    "d_vol = l_total ** 3\n",
    "sp_vol = (4 / 3) * np.pi * (a0 ** 3)\n",
    "n = 7\n",
    "r = np.zeros((15,3))\n",
    "\n",
    "# spheres = []\n",
    "sphere_x = []\n",
    "sphere_y = []\n",
    "# center = np.zeros((1,2))\n",
    "rand_1_x = amax\n",
    "rand_2_x = l_total - amax\n",
    "rand_1_y = amax\n",
    "rand_2_y = l_total - amax \n",
    "# for _ in range(n):\n",
    "    \n",
    "#     while True:\n",
    "#         center_x = np.random.uniform(rand_1, rand_2, size = 1)\n",
    "#         center_y = np.random.uniform(rand_1, rand_2, size = 1)\n",
    "#         overlap = False\n",
    "#         for c in spheres:\n",
    "#             if np.linalg.norm(np.array((center_x,center_y)) - np.array(c)) <= 2 * a0 + dh :\n",
    "#                 overlap =True\n",
    "#                 break\n",
    "                 \n",
    "#         if not overlap :\n",
    "#             spheres.append(center)\n",
    "#             break\n",
    "        \n",
    "#         sphere_x = sorted(center_x)\n",
    "#         sphere_y = sorted(center_y)\n",
    "        \n",
    "#         x_diff = [ abs(sphere_x[i] - sphere_x[i+1]) for i in len(sphere_x)]\n",
    "#         y_diff = [ abs(sphere_y[i] - sphere_y[i+1]) for i in len(sphere_y)]\n",
    "            \n",
    "\n",
    "for _ in range(n):\n",
    "    \n",
    "    while True:\n",
    "        center_x = np.random.uniform(rand_1_x, rand_2_x, size = 1)\n",
    "        center_y = np.random.uniform(rand_1_y, rand_2_y, size = 1)\n",
    "        \n",
    "        overlap = False\n",
    "        for c_x, c_y  in zip(sphere_x, sphere_y):\n",
    "            if np.linalg.norm(np.array((center_x,center_y)) - np.array((c_x, c_y))) <= 2 * a0 + dh :\n",
    "                overlap =True\n",
    "                break\n",
    "                 \n",
    "        if not overlap :\n",
    "            sphere_x.append(center_x)\n",
    "            sphere_y.append(center_y)\n",
    "            break\n",
    "                              \n",
    "        sphere_x = sorted(sphere_x)\n",
    "        sphere_y = sorted(sphere_y)\n",
    "        \n",
    "        x_diff = [ abs(sphere_x[i] - sphere_x[i+1]) for i in range(len(sphere_x) -1)]\n",
    "        y_diff = [ abs(sphere_y[i] - sphere_y[i+1]) for i in range(len(sphere_y) - 1)]\n",
    "        # x_diff_sorted = sorted(x_diff)\n",
    "        # y_diff_sorted = sorted(y_diff)\n",
    "        id_x = x_diff.index(max(x_diff))\n",
    "        id_y = y_diff.index(max(y_diff)) \n",
    "        if ( abs(l_min - abs(sphere_x[0] - amax)  and  abs(l_total - (sphere_x[-1] + amax))) < x_diff[id_x]:\n",
    "            rand_1_x = sphere_x[id_x] + amax\n",
    "            rand_2_x = sphere_x[id_x +  1] - amax\n",
    "            \n",
    "        elif abs(l_total - (sphere_x[-1] + amax)) >  abs(l_min - abs(sphere_x[0] - amax)):\n",
    "            rand_1_x = sphere_x[-1] + amax\n",
    "            rand_2_x = l_total\n",
    "        else:\n",
    "            rand_1_x = l_min\n",
    "            rand_2_x = sphere_x[0] - amax\n",
    "            \n",
    "        if ( abs(l_min - abs(sphere_y[0] - amax))  and abs(l_total - (sphere_y[-1] + amax))) < y_diff[id_y]:\n",
    "            rand_1_y = sphere_y[id_y] + amax\n",
    "            rand_2_y = sphere_y[id_y +  1] - amax\n",
    "               \n",
    "        elif abs(l_total - (sphere_y[-1] + amax)) > abs(l_min - abs(sphere_y[0] - amax)):\n",
    "            rand_1_y = sphere_y[-1] + amax\n",
    "            rand_2_y = l_total\n",
    "        else:\n",
    "            rand_1_y = l_min\n",
    "            rand_2_y = sphere_y[0] - amax     \n",
    "            \n",
    "            \n",
    "       \n",
    "    print(f\"sphere no - {_ + 1} completed - with x,y = {sphere_x[_]}, {sphere_y[_]}\")\n",
    "        \n",
    "\n",
    "\n",
    "\n",
    "# r_x = np.random.rand() * "
   ]
  },
  {
   "cell_type": "code",
   "execution_count": null,
   "id": "bf64da5b-4575-4a6d-8f72-2e34326aa538",
   "metadata": {
    "tags": []
   },
   "outputs": [],
   "source": []
  },
  {
   "cell_type": "code",
   "execution_count": null,
   "id": "365089a0-ca4f-4908-bbb2-39539970ec70",
   "metadata": {
    "tags": []
   },
   "outputs": [],
   "source": [
    "center_x"
   ]
  },
  {
   "cell_type": "code",
   "execution_count": null,
   "id": "55c02a02-8342-457b-834d-33d503738b24",
   "metadata": {
    "tags": []
   },
   "outputs": [],
   "source": [
    "center_x = np.random.uniform(rand_1_x, rand_2_y, size = 15)\n",
    "center_y = np.random.uniform(rand_1_x, rand_2_y, size = 15)\n",
    "sphere_x = sorted(center_x)\n",
    "sphere_y = sorted(center_y)\n",
    "        \n",
    "x_diff = [ abs(sphere_x[i] - sphere_x[i+1]) for i in range(len(sphere_x) -1)]\n",
    "y_diff = [ abs(sphere_y[i] - sphere_y[i+1]) for i in range(len(sphere_y) - 1)]\n",
    "x_diff_sorted = sorted(x_diff)\n",
    "y_diff_sorted = sorted(y_diff)\n",
    "id_x = x_diff_sorted.index(max(x_diff_sorted))\n",
    "id_y = y_diff_sorted.index(max(y_diff_sorted))\n"
   ]
  },
  {
   "cell_type": "code",
   "execution_count": null,
   "id": "246167f1-89bf-4979-84bd-bf7b60bb9372",
   "metadata": {
    "tags": []
   },
   "outputs": [],
   "source": [
    "x_diff_sorted.index(max(x_diff_sorted))"
   ]
  },
  {
   "cell_type": "code",
   "execution_count": null,
   "id": "400e05c5-5034-49ca-9856-ff56784a2ecb",
   "metadata": {
    "tags": []
   },
   "outputs": [],
   "source": [
    "x_diff_sorted.index(min(x_diff_sorted))"
   ]
  },
  {
   "cell_type": "code",
   "execution_count": null,
   "id": "9151818a-7553-459f-8719-56b7793e7894",
   "metadata": {
    "tags": []
   },
   "outputs": [],
   "source": [
    "sphere_x[13:15]"
   ]
  },
  {
   "cell_type": "code",
   "execution_count": null,
   "id": "07bfda58-a8df-4823-b927-3ad3f0e24ed7",
   "metadata": {
    "tags": []
   },
   "outputs": [],
   "source": [
    "sphere_x"
   ]
  },
  {
   "cell_type": "code",
   "execution_count": null,
   "id": "42fc0a4e-bc5a-4666-a815-12cf33aeae77",
   "metadata": {
    "tags": []
   },
   "outputs": [],
   "source": [
    "sphere_y"
   ]
  },
  {
   "cell_type": "code",
   "execution_count": null,
   "id": "13d7d3b0-418a-48c8-a83c-a5903ac25a35",
   "metadata": {
    "tags": []
   },
   "outputs": [],
   "source": [
    "(sp_vol * 60) / d_vol"
   ]
  },
  {
   "cell_type": "code",
   "execution_count": null,
   "id": "66b9d10f-961d-4cf7-b9c5-9107cc3621f4",
   "metadata": {
    "tags": []
   },
   "outputs": [],
   "source": [
    "rr = np.zeros((15,3))\n",
    "for j in range(3):\n",
    "    \n",
    "    rr[:,j] = amax + np.random.rand(15) * (l_total - 2 * amax)"
   ]
  },
  {
   "cell_type": "code",
   "execution_count": null,
   "id": "a475f97d-abc8-4aab-ad2a-fff6daf4f55d",
   "metadata": {
    "tags": []
   },
   "outputs": [],
   "source": [
    "np.array((2,4))"
   ]
  },
  {
   "cell_type": "code",
   "execution_count": null,
   "id": "537af0ca-24a9-477b-8d66-77cf66be96ba",
   "metadata": {
    "tags": []
   },
   "outputs": [],
   "source": [
    "rr"
   ]
  },
  {
   "cell_type": "code",
   "execution_count": null,
   "id": "1d141235-0969-4595-85a9-2355130a6dac",
   "metadata": {
    "tags": []
   },
   "outputs": [],
   "source": [
    "spheres"
   ]
  },
  {
   "cell_type": "code",
   "execution_count": null,
   "id": "9dcc38b1-edd9-48fd-b8c8-913932895867",
   "metadata": {},
   "outputs": [],
   "source": [
    "for c in spheres:\n",
    "    "
   ]
  }
 ],
 "metadata": {
  "kernelspec": {
   "display_name": "Python 3 (ipykernel)",
   "language": "python",
   "name": "python3"
  },
  "language_info": {
   "codemirror_mode": {
    "name": "ipython",
    "version": 3
   },
   "file_extension": ".py",
   "mimetype": "text/x-python",
   "name": "python",
   "nbconvert_exporter": "python",
   "pygments_lexer": "ipython3",
   "version": "3.11.7"
  }
 },
 "nbformat": 4,
 "nbformat_minor": 5
}
