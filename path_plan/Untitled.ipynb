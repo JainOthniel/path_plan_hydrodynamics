{
 "cells": [
  {
   "cell_type": "code",
   "execution_count": null,
   "id": "f234dc25-167f-43a8-84db-9c26f6fcbb96",
   "metadata": {},
   "outputs": [],
   "source": []
  },
  {
   "cell_type": "code",
   "execution_count": null,
   "id": "c65d8cd7-6999-4539-81ee-5db160367242",
   "metadata": {
    "tags": []
   },
   "outputs": [],
   "source": [
    "import numpy as np\n",
    "import matplotlib.pyplot as plt\n",
    "import random\n",
    "import math as m\n",
    "import pandas as pd"
   ]
  },
  {
   "cell_type": "code",
   "execution_count": 51,
   "id": "571a303c-645f-4fd3-9822-5ec9d219a066",
   "metadata": {
    "tags": []
   },
   "outputs": [
    {
     "name": "stdout",
     "output_type": "stream",
     "text": [
      "sphere no - 1 completed - with x,y = [4.38342794], [12.89622985]\n",
      "sphere no - 2 completed - with x,y = [3.11482595], [6.01692603]\n",
      "sphere no - 3 completed - with x,y = [15.90661001], [11.44894103]\n",
      "sphere no - 4 completed - with x,y = [12.26080228], [6.78878975]\n",
      "sphere no - 5 completed - with x,y = [10.94267674], [5.36391218]\n",
      "sphere no - 6 completed - with x,y = [6.0910483], [12.65549107]\n"
     ]
    }
   ],
   "source": [
    "l_min = 0\n",
    "l_total = 16\n",
    "a0 = 2.5\n",
    "dh = 0.5\n",
    "amax = a0 + dh\n",
    "hmax = 2*a0 + dh\n",
    "d_vol = l_total ** 3\n",
    "sp_vol = (4 / 3) * np.pi * (a0 ** 3)\n",
    "n = 6\n",
    "r = np.zeros((15,3))\n",
    "\n",
    "# spheres = []\n",
    "sphere_x = []\n",
    "sphere_y = []\n",
    "# center = np.zeros((1,2))\n",
    "rand_1_x = amax\n",
    "rand_2_x = l_total - amax\n",
    "rand_1_y = amax\n",
    "rand_2_y = l_total - amax \n",
    "# for _ in range(n):\n",
    "    \n",
    "#     while True:\n",
    "#         center_x = np.random.uniform(rand_1, rand_2, size = 1)\n",
    "#         center_y = np.random.uniform(rand_1, rand_2, size = 1)\n",
    "#         overlap = False\n",
    "#         for c in spheres:\n",
    "#             if np.linalg.norm(np.array((center_x,center_y)) - np.array(c)) <= 2 * a0 + dh :\n",
    "#                 overlap =True\n",
    "#                 break\n",
    "                 \n",
    "#         if not overlap :\n",
    "#             spheres.append(center)\n",
    "#             break\n",
    "        \n",
    "#         sphere_x = sorted(center_x)\n",
    "#         sphere_y = sorted(center_y)\n",
    "        \n",
    "#         x_diff = [ abs(sphere_x[i] - sphere_x[i+1]) for i in len(sphere_x)]\n",
    "# #         y_diff = [ abs(sphere_y[i] - sphere_y[i+1]) for i in len(sphere_y)]\n",
    "# sphere_x.append(np.random.uniform(rand_1_x, rand_2_x, size = 1))\n",
    "# sphere_y.append(np.random.uniform(rand_1_y, rand_2_y, size = 1))\n",
    "\n",
    "for _ in range(n):\n",
    "    \n",
    "#     if _ != 0:\n",
    "        \n",
    "#         sphere_x = sorted(sphere_x)\n",
    "#         sphere_y = sorted(sphere_y)\n",
    "#         x_diff = [ abs(sphere_x[i] - sphere_x[i+1]) for i in range(len(sphere_x) -1)]\n",
    "#         y_diff = [ abs(sphere_y[i] - sphere_y[i+1]) for i in range(len(sphere_y) - 1)]\n",
    "#         # x_diff_sorted = sorted(x_diff)\n",
    "#         # y_diff_sorted = sorted(y_diff)\n",
    "#         id_x = x_diff.index(max(x_diff))\n",
    "#         id_y = y_diff.index(max(y_diff))\n",
    "   \n",
    "        \n",
    "    while True:\n",
    "        center_x = np.random.uniform(rand_1_x, rand_2_x, size = 1)\n",
    "        center_y = np.random.uniform(rand_1_y, rand_2_y, size = 1)\n",
    "        \n",
    "        overlap = False\n",
    "        for c_x, c_y  in zip(sphere_x, sphere_y):\n",
    "            if np.linalg.norm(np.array((center_x,center_y)) - np.array((c_x, c_y))) <= 2 * a0 + dh :\n",
    "                overlap =True\n",
    "                break\n",
    "               \n",
    "        if not overlap :\n",
    "            sphere_x.append(center_x)\n",
    "            sphere_y.append(center_y)\n",
    "            break\n",
    "        \n",
    "        # if _ == 0:\n",
    "        \n",
    "        sphere_x = sorted(sphere_x)\n",
    "        sphere_y = sorted(sphere_y)\n",
    "        x_diff = [ abs(sphere_x[i] - sphere_x[i+1]) for i in range(len(sphere_x) -1)]\n",
    "        y_diff = [ abs(sphere_y[i] - sphere_y[i+1]) for i in range(len(sphere_y) - 1)]\n",
    "            # x_diff_sorted = sorted(x_diff)\n",
    "            # y_diff_sorted = sorted(y_diff)\n",
    "        id_x = x_diff.index(max(x_diff))\n",
    "        id_y = y_diff.index(max(y_diff))\n",
    "        \n",
    "        if ( abs(l_min - abs(sphere_x[0] - amax))  and  abs(l_total - (sphere_x[-1] + amax))) < x_diff[id_x]:\n",
    "            rand_1_x = sphere_x[id_x]\n",
    "            rand_2_x = sphere_x[id_x +  1]\n",
    "            \n",
    "        elif abs(l_total - (sphere_x[-1] + amax)) >  abs(l_min - abs(sphere_x[0] - amax)):\n",
    "            rand_1_x = sphere_x[-1]\n",
    "            rand_2_x = l_total\n",
    "        else:\n",
    "            rand_1_x = l_min\n",
    "            rand_2_x = sphere_x[0]\n",
    "            \n",
    "#         if ( abs(l_min - abs(sphere_y[0] - amax))  and abs(l_total - (sphere_y[-1] + amax))) < y_diff[id_y]:\n",
    "#             rand_1_y = sphere_y[id_y] + amax\n",
    "#             rand_2_y = sphere_y[id_y +  1] - amax\n",
    "               \n",
    "#         elif abs(l_total - (sphere_y[-1] + amax)) > abs(l_min - abs(sphere_y[0] - amax)):\n",
    "#             rand_1_y = sphere_y[-1] + amax\n",
    "#             rand_2_y = l_total\n",
    "#         else:\n",
    "#             rand_1_y = l_min\n",
    "#             rand_2_y = sphere_y[0] - amax     \n",
    "            \n",
    "            \n",
    "       \n",
    "    print(f\"sphere no - { _ + 1} completed - with x,y = {sphere_x[_]}, {sphere_y[_]}\")\n",
    "        \n",
    "\n",
    "\n",
    "\n",
    "# r_x = np.random.rand() * "
   ]
  },
  {
   "cell_type": "code",
   "execution_count": null,
   "id": "bf64da5b-4575-4a6d-8f72-2e34326aa538",
   "metadata": {
    "tags": []
   },
   "outputs": [],
   "source": [
    "\n",
    "i= 1\n",
    "\n",
    "for c_x, c_y  in zip(sphere_x, sphere_y):\n",
    "    for c_x_1, c_x_2 in zip(sphere_x,sphere_y):\n",
    "        \n",
    "        print(f\"sphere -{i}  - {np.linalg.norm(np.array((center_x,center_y)) - np.array((c_x, c_y)))}\")\n",
    "        i = i +1\n",
    "                "
   ]
  },
  {
   "cell_type": "code",
   "execution_count": null,
   "id": "365089a0-ca4f-4908-bbb2-39539970ec70",
   "metadata": {
    "tags": []
   },
   "outputs": [],
   "source": [
    "print(list(zip(sphere_x, sphere_y)))"
   ]
  },
  {
   "cell_type": "code",
   "execution_count": null,
   "id": "55c02a02-8342-457b-834d-33d503738b24",
   "metadata": {
    "tags": []
   },
   "outputs": [],
   "source": [
    "center_x = np.random.uniform(rand_1_x, rand_2_y, size = 15)\n",
    "center_y = np.random.uniform(rand_1_x, rand_2_y, size = 15)\n",
    "sphere_x = sorted(center_x)\n",
    "sphere_y = sorted(center_y)\n",
    "        \n",
    "x_diff = [ abs(sphere_x[i] - sphere_x[i+1]) for i in range(len(sphere_x) -1)]\n",
    "y_diff = [ abs(sphere_y[i] - sphere_y[i+1]) for i in range(len(sphere_y) - 1)]\n",
    "x_diff_sorted = sorted(x_diff)\n",
    "y_diff_sorted = sorted(y_diff)\n",
    "id_x = x_diff_sorted.index(max(x_diff_sorted))\n",
    "id_y = y_diff_sorted.index(max(y_diff_sorted))\n"
   ]
  },
  {
   "cell_type": "code",
   "execution_count": null,
   "id": "246167f1-89bf-4979-84bd-bf7b60bb9372",
   "metadata": {
    "tags": []
   },
   "outputs": [],
   "source": [
    "x_diff_sorted.index(max(x_diff_sorted))"
   ]
  },
  {
   "cell_type": "code",
   "execution_count": null,
   "id": "400e05c5-5034-49ca-9856-ff56784a2ecb",
   "metadata": {
    "tags": []
   },
   "outputs": [],
   "source": [
    "x_diff_sorted.index(min(x_diff_sorted))"
   ]
  },
  {
   "cell_type": "code",
   "execution_count": null,
   "id": "9151818a-7553-459f-8719-56b7793e7894",
   "metadata": {
    "tags": []
   },
   "outputs": [],
   "source": [
    "sphere_x[13:15]"
   ]
  },
  {
   "cell_type": "code",
   "execution_count": null,
   "id": "07bfda58-a8df-4823-b927-3ad3f0e24ed7",
   "metadata": {
    "tags": []
   },
   "outputs": [],
   "source": [
    "sphere_x"
   ]
  },
  {
   "cell_type": "code",
   "execution_count": null,
   "id": "42fc0a4e-bc5a-4666-a815-12cf33aeae77",
   "metadata": {
    "tags": []
   },
   "outputs": [],
   "source": [
    "sphere_y"
   ]
  },
  {
   "cell_type": "code",
   "execution_count": null,
   "id": "13d7d3b0-418a-48c8-a83c-a5903ac25a35",
   "metadata": {
    "tags": []
   },
   "outputs": [],
   "source": [
    "(sp_vol * 60) / d_vol"
   ]
  },
  {
   "cell_type": "code",
   "execution_count": null,
   "id": "66b9d10f-961d-4cf7-b9c5-9107cc3621f4",
   "metadata": {
    "tags": []
   },
   "outputs": [],
   "source": [
    "rr = np.zeros((15,3))\n",
    "for j in range(3):\n",
    "    \n",
    "    rr[:,j] = amax + np.random.rand(15) * (l_total - 2 * amax)"
   ]
  },
  {
   "cell_type": "code",
   "execution_count": null,
   "id": "a475f97d-abc8-4aab-ad2a-fff6daf4f55d",
   "metadata": {
    "tags": []
   },
   "outputs": [],
   "source": [
    "np.array((2,4))"
   ]
  },
  {
   "cell_type": "code",
   "execution_count": null,
   "id": "537af0ca-24a9-477b-8d66-77cf66be96ba",
   "metadata": {
    "tags": []
   },
   "outputs": [],
   "source": [
    "rr"
   ]
  },
  {
   "cell_type": "code",
   "execution_count": null,
   "id": "1d141235-0969-4595-85a9-2355130a6dac",
   "metadata": {
    "tags": []
   },
   "outputs": [],
   "source": [
    "spheres"
   ]
  },
  {
   "cell_type": "code",
   "execution_count": null,
   "id": "9dcc38b1-edd9-48fd-b8c8-913932895867",
   "metadata": {},
   "outputs": [],
   "source": [
    "for c in spheres:\n",
    "    "
   ]
  },
  {
   "cell_type": "code",
   "execution_count": null,
   "id": "421e6474-01fa-4af2-b53c-aa14a2266f90",
   "metadata": {
    "tags": []
   },
   "outputs": [],
   "source": [
    "list_x = list(range(5, 28))\n",
    "list_y = list(range(5, 28))\n",
    "sphere_x = []\n",
    "sphere_y = []\n",
    "for i in range(10):\n",
    "    sphere_x.append(random.choice(list_x))\n",
    "    sphere_y.append(random.choice(list_y))\n",
    "    list_x.remove(in)\n",
    "    list_y.remove(sphere_y[i])"
   ]
  },
  {
   "cell_type": "code",
   "execution_count": null,
   "id": "7a3cce46-ae0d-4951-9c18-eb4acb816791",
   "metadata": {
    "tags": []
   },
   "outputs": [],
   "source": [
    "sphere_x"
   ]
  },
  {
   "cell_type": "code",
   "execution_count": 34,
   "id": "58371389-4ad0-407b-b960-5a8106fe0b5a",
   "metadata": {
    "tags": []
   },
   "outputs": [
    {
     "data": {
      "image/png": "[encoded data removed]",
      "text/plain": [
       "<Figure size 900x700 with 1 Axes>"
      ]
     },
     "metadata": {},
     "output_type": "display_data"
    }
   ],
   "source": [
    "import random\n",
    "import numpy as np\n",
    "import matplotlib.pyplot as plt\n",
    "\n",
    "# Step 1: Initialize the grid size (32x32) and create a list with pixel numbers\n",
    "width, height = 27, 27\n",
    "num_pixels = width * height\n",
    "pixels = list(range(1, num_pixels + 1))  # List from 1 to 1024\n",
    "\n",
    "# Function to convert pixel number to (x, y) coordinates\n",
    "def pixel_to_coordinates(pixel_num, width):\n",
    "    x = (pixel_num - 1) % width\n",
    "    y = (pixel_num - 1) // width\n",
    "    return x, y\n",
    "\n",
    "# Function to calculate distance between two pixels\n",
    "def distance(x1, y1, x2, y2):\n",
    "    return np.sqrt((x2 - x1) ** 2 + (y2 - y1) ** 2)\n",
    "\n",
    "# Step 2: Function to randomly pick a pixel and ensure no overlap\n",
    "def draw_non_touching_circle(centers, radius=2):\n",
    "    while True:\n",
    "        # Randomly pick a pixel\n",
    "        random_pixel = random.choice(pixels)\n",
    "        center_x, center_y = pixel_to_coordinates(random_pixel, width)\n",
    "        \n",
    "        # Check that the circle does not touch any existing circle\n",
    "        can_draw = True\n",
    "        for cx, cy in centers:\n",
    "            if distance(center_x, center_y, cx, cy) < 2 * radius + 0.5:\n",
    "                can_draw = False\n",
    "                break\n",
    "        \n",
    "        if can_draw:\n",
    "            # If no overlap, add this circle's center to the list\n",
    "            centers.append((center_x, center_y))\n",
    "            return center_x, center_y\n",
    "\n",
    "# Step 3: Plot the circles on the 32x32 grid\n",
    "def plot_grid_with_non_touching_circles(num_circles=5, radius=5):\n",
    "    centers = []\n",
    "    \n",
    "    fig, ax = plt.subplots(figsize=(9,7))\n",
    "    ax.set_aspect('equal')\n",
    "    ax.set_xlim(-5, width + 5)\n",
    "    ax.set_ylim(-5, height + 5)\n",
    "    \n",
    "    for _ in range(num_circles):\n",
    "        center_x, center_y = draw_non_touching_circle(centers, radius)\n",
    "        circle = plt.Circle((center_x, center_y), radius, color='b', fill=False)\n",
    "        ax.add_artist(circle)\n",
    "    \n",
    "    plt.grid(False)\n",
    "    plt.xticks(range(-5, width + 1 + 5, 1))\n",
    "    plt.yticks(range(-5, height + 1 + 5, 1))\n",
    "    plt.show()\n",
    "\n",
    "plot_grid_with_non_touching_circles(num_circles=5, radius=5)\n"
   ]
  },
  {
   "cell_type": "code",
   "execution_count": null,
   "id": "f26440af-f1fc-4e3c-a2d1-217f1e755c91",
   "metadata": {
    "tags": []
   },
   "outputs": [],
   "source": [
    "import random\n",
    "import numpy as np\n",
    "import matplotlib.pyplot as plt\n",
    "\n",
    "# Step 1: Initialize the screen size and create a list with pixel numbers\n",
    "width, height = \n",
    "num_pixels = width * height\n",
    "pixels = list(range(1, num_pixels + 1))  # List from 1 to 307,200\n",
    "\n",
    "# Function to convert pixel number to (x, y) coordinates\n",
    "def pixel_to_coordinates(pixel_num, width):\n",
    "    x = (pixel_num - 1) % width\n",
    "    y = (pixel_num - 1) // width\n",
    "    return x, y\n",
    "\n",
    "# Function to convert (x, y) coordinates back to a pixel number\n",
    "def coordinates_to_pixel(x, y, width):\n",
    "    return y * width + x + 1\n",
    "\n",
    "# Function to calculate distance between two pixels\n",
    "def distance(x1, y1, x2, y2):\n",
    "    return np.sqrt((x2 - x1) ** 2 + (y2 - y1) ** 2)\n",
    "\n",
    "# Step 2: Randomly pick a pixel and draw a circle around it\n",
    "def draw_circle(pixels, radius=10):\n",
    "    if not pixels:\n",
    "        print(\"No more pixels available!\")\n",
    "        return\n",
    "    \n",
    "    # Randomly pick a pixel\n",
    "    random_pixel = random.choice(pixels)\n",
    "    center_x, center_y = pixel_to_coordinates(random_pixel, width)\n",
    "    \n",
    "    # Calculate all pixels within the circle\n",
    "    pixels_in_circle = []\n",
    "    for pixel in pixels:\n",
    "        x, y = pixel_to_coordinates(pixel, width)\n",
    "        if distance(center_x, center_y, x, y) <= radius:\n",
    "            pixels_in_circle.append(pixel)\n",
    "    \n",
    "    # Step 4: Remove the pixels that fall within the circle\n",
    "    for pixel in pixels_in_circle:\n",
    "        if pixel in pixels:\n",
    "            pixels.remove(pixel)\n",
    "    \n",
    "    print(f\"Circle drawn at pixel {random_pixel} with center ({center_x}, {center_y})\")\n",
    "    print(f\"Pixels removed: {len(pixels_in_circle)}\")\n",
    "    \n",
    "    return random_pixel, center_x, center_y, pixels_in_circle\n",
    "\n",
    "# Step 5: Plot the circles on the grid\n",
    "def plot_circle(center_x, center_y, radius, ax):\n",
    "    circle = plt.Circle((center_x, center_y), radius, color='b', fill=False)\n",
    "    ax.add_artist(circle)\n",
    "\n",
    "def plot_grid_with_circles(pixels, num_circles=5, radius=5):\n",
    "    fig, ax = plt.subplots()\n",
    "    ax.set_aspect('equal')\n",
    "    ax.set_xlim(0, width)\n",
    "    ax.set_ylim(0, height)\n",
    "    \n",
    "    for _ in range(num_circles):\n",
    "        _, center_x, center_y, _ = draw_circle(pixels, radius)\n",
    "        plot_circle(center_x, center_y, radius, ax)\n",
    "    \n",
    "    plt.gca().invert_yaxis()  # Invert the y-axis to match the top-left origin of the grid\n",
    "    plt.show()\n",
    "\n",
    "# Example usage: Draw 5 circles and plot them\n",
    "plot_grid_with_circles(pixels, num_circles=5, radius=10)\n"
   ]
  },
  {
   "cell_type": "code",
   "execution_count": null,
   "id": "140d85b6-245f-4960-a0c2-b390cd83988c",
   "metadata": {},
   "outputs": [],
   "source": []
  }
 ],
 "metadata": {
  "kernelspec": {
   "display_name": "Python 3 (ipykernel)",
   "language": "python",
   "name": "python3"
  },
  "language_info": {
   "codemirror_mode": {
    "name": "ipython",
    "version": 3
   },
   "file_extension": ".py",
   "mimetype": "text/x-python",
   "name": "python",
   "nbconvert_exporter": "python",
   "pygments_lexer": "ipython3",
   "version": "3.11.7"
  }
 },
 "nbformat": 4,
 "nbformat_minor": 5
}
