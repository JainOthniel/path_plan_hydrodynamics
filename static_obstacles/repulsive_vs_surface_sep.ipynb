{
 "cells": [
  {
   "cell_type": "code",
   "execution_count": 1,
   "id": "84d347b4-eccd-429d-8241-420f1104a9e7",
   "metadata": {},
   "outputs": [
    {
     "name": "stdout",
     "output_type": "stream",
     "text": [
      "current working directory = /home/nirmal/anaconda3/envs/myenv\n"
     ]
    }
   ],
   "source": [
    "import numpy as np\n",
    "# from matplotlib.legend_handler import HandlerTuple, HandlerLine2D\n",
    "import pandas as pd\n",
    "import matplotlib.pyplot as plt\n",
    "import os\n",
    "from scipy.integrate import solve_ivp\n",
    "from matplotlib.animation import FuncAnimation\n",
    "# from matplotlib.widgets import Slider, Button\n",
    "# from matplotlib.lines import Line2D\n",
    "from matplotlib.lines import Line2D\n",
    "# from matplotlib.table import Table\n",
    "# from matplotlib.colors import LinearSegmentedColormaps\n",
    "from matplotlib import rc\n",
    "rc('font', **{'family': 'serif', 'serif': ['Computer Modern'], 'size': 10})\n",
    "rc('text', usetex=True)\n",
    "# Current working directory\n",
    "cwd = os.getcwd()\n",
    "print(f'current working directory = {cwd}')"
   ]
  },
  {
   "cell_type": "code",
   "execution_count": 2,
   "id": "1e150afa-ea5b-4596-89bc-bba1cad5c7e7",
   "metadata": {},
   "outputs": [],
   "source": [
    "\"\"\"\n",
    "force in x and z direction are defined separately \n",
    "\"\"\"\n",
    "\n",
    "def rep_force_x(sep_vext_x :float, separation_vect_magn :float, range :float, surface_sep :float , max_force :float)-> float:\n",
    "    return max_force * (( range * np.exp(-range * surface_sep)) / (1 -  np.exp(-range * surface_sep))) * (sep_vext_x / separation_vect_magn)\n",
    "\n",
    "def rep_force_z(sep_vext_z :float, separation_vect_magn :float, range :float, surface_sep :float , max_force :float)-> float:\n",
    "    return max_force * (( range * np.exp(-range * surface_sep)) / (1 -  np.exp(-range * surface_sep))) * (sep_vext_z / separation_vect_magn)\n",
    "\n",
    "def rep_force(range :float, surface_sep :float , max_force :float)-> float:\n",
    "    return max_force * (( range * np.exp(-range * surface_sep)) / (1 -  np.exp(-range * surface_sep)))\n",
    "    "
   ]
  },
  {
   "cell_type": "code",
   "execution_count": 28,
   "id": "030464f5-a216-4567-888e-6b5abb8729cf",
   "metadata": {},
   "outputs": [
    {
     "name": "stdout",
     "output_type": "stream",
     "text": [
      "0.00019999999999997797\n"
     ]
    },
    {
     "data": {
      "text/plain": [
       "<function matplotlib.pyplot.show(close=None, block=None)>"
      ]
     },
     "execution_count": 28,
     "metadata": {},
     "output_type": "execute_result"
    },
    {
     "data": {
      "image/png": "[encoded data removed]",
      "text/plain": [
       "<Figure size 800x600 with 1 Axes>"
      ]
     },
     "metadata": {},
     "output_type": "display_data"
    }
   ],
   "source": [
    "f0 = 0.005\n",
    "tau = 15\n",
    "a_m = 5\n",
    "a_o = 5\n",
    "r =  np.arange(a_m + a_o + 0.001, 15, 0.1)\n",
    "eff = (2*r / (a_m + a_o)) - 2\n",
    "# eff = r  - ( a_m + a_o)\n",
    "f = rep_force(tau, eff, f0)\n",
    "f_max_ind = np.argmax(f)\n",
    "eff_max = eff[f_max_ind]\n",
    "print(eff_max)\n",
    "\n",
    "fig ,ax = plt.subplots(figsize=(8,6))\n",
    "\n",
    "ax.plot(eff, f / f0, color = 'red')\n",
    "# ax.plot([eff_max,eff_max], [-1000, 1000], linestyle = '--', color = 'black')\n",
    "ax.set_xlabel('s - 2')\n",
    "ax.set_ylabel('F / F{0}')\n",
    "ax.set_ylim(-200, 600)\n",
    "ax.set_title(f'repulsive force vs non - dimensionalised surface separation')\n",
    "plt.savefig('repulsive_force_vs_surface_separation.png',dpi=300)\n",
    "plt.show\n"
   ]
  },
  {
   "cell_type": "code",
   "execution_count": 25,
   "id": "739c71bf-f1e9-431a-80fe-bc84d5dead29",
   "metadata": {},
   "outputs": [
    {
     "name": "stdout",
     "output_type": "stream",
     "text": [
      "/home/nirmal/anaconda3/envs/myenv\n"
     ]
    }
   ],
   "source": [
    "print(cwd)\n"
   ]
  }
 ],
 "metadata": {
  "kernelspec": {
   "display_name": "Python 3 (ipykernel)",
   "language": "python",
   "name": "python3"
  },
  "language_info": {
   "codemirror_mode": {
    "name": "ipython",
    "version": 3
   },
   "file_extension": ".py",
   "mimetype": "text/x-python",
   "name": "python",
   "nbconvert_exporter": "python",
   "pygments_lexer": "ipython3",
   "version": "3.11.7"
  }
 },
 "nbformat": 4,
 "nbformat_minor": 5
}
