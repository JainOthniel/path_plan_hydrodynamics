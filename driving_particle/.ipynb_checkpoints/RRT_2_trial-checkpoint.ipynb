{
 "cells": [
  {
   "cell_type": "code",
   "execution_count": null,
   "id": "e75576ca-36b0-4384-907b-86df193e5df3",
   "metadata": {},
   "outputs": [],
   "source": [
    "\"\"\"\n",
    "RRT - gebrtae random points near latest node and goal\n",
    "and added unit directrion vector to point towards the goal\n",
    "draw backs:-  if start(node), obstacle and goal are collinear collision happens\n",
    "\n",
    "\"\"\"\n"
   ]
  },
  {
   "cell_type": "code",
   "execution_count": null,
   "id": "2bc4f933-7294-4c9d-a9ad-0c6a10350f55",
   "metadata": {
    "tags": []
   },
   "outputs": [],
   "source": [
    "import numpy as np\n",
    "import matplotlib.pyplot as plt\n",
    "import random"
   ]
  },
  {
   "cell_type": "code",
   "execution_count": null,
   "id": "ee22ee95-a38d-401c-890e-09eeb7099d30",
   "metadata": {
    "tags": []
   },
   "outputs": [],
   "source": [
    "OBSTACLE_THRESHOLD = 1\n",
    "GRID_SIZE = 100\n",
    "NUM_OBSTACLES = 80\n",
    "step_size_t = 5\n",
    "Max_iter = 20000\n",
    "# Generate random obstacles\n",
    "obstacles = np.random.rand(NUM_OBSTACLES, 2) * GRID_SIZE\n",
    "START_RANGE = (0, GRID_SIZE)\n",
    "GOAL_RANGE = (0, GRID_SIZE)\n",
    "# Generate random start and goal points \n",
    "start = np.random.uniform(START_RANGE[0], START_RANGE[1], size=2)\n",
    "goal = np.random.uniform(GOAL_RANGE[0], GOAL_RANGE[1], size=2)\n",
    "# start = np.array([80, 50])\n",
    "# goal = np.array([80, 10])\n",
    "# obstacles[3] = np.array([80,30])\n",
    "\n",
    "\n",
    "\"\"\"\n",
    "function to genrate random  points near the specified location\n",
    "\"\"\"\n",
    "\n",
    "def generate_random_point(latest_node,goal,max_offset = step_size_t):\n",
    "    \n",
    "    off_set = np.random.rand(2) * max_offset\n",
    "    direction_vect = goal - latest_node\n",
    "    unit_direct = direction_vect / np.linalg.norm(direction_vect)\n",
    "    return latest_node + off_set * unit_direct\n",
    "\n",
    "\n",
    "\"\"\"\n",
    "function to check if collisions\n",
    "\"\"\"\n",
    "def is_collision(point):\n",
    "    \n",
    "    for obstacle in obstacles:\n",
    "        if np.linalg.norm(point - obstacle) < OBSTACLE_THRESHOLD:\n",
    "            return True\n",
    "    return False        \n",
    "\n",
    "\"\"\"\n",
    "functions to get nearest node\n",
    "\"\"\"\n",
    "\n",
    "def find_nearest_node(tree,point):\n",
    "    \n",
    "    distances = [np.linalg.norm(node - point) for node in tree]\n",
    "    return tree[np.argmin(distances)]    \n",
    "\n",
    "\"\"\"\n",
    "function to extend the tree\n",
    "\n",
    "\"\"\"\n",
    "\n",
    "def extend_tree(tree, nearest_node, new_point, goal, step_size):\n",
    "    direction = new_point - nearest_node\n",
    "    distance = np.linalg.norm(direction)\n",
    "    new_node = nearest_node + step_size * (direction / distance)\n",
    "    \n",
    "    if not is_collision(new_node):   \n",
    "        if np.linalg.norm(new_node - goal) <= step_size:\n",
    "            return goal\n",
    "        elif any(np.linalg.norm(new_node - node) < step_size for node in tree):\n",
    "            return nearest_node\n",
    "        return new_node            \n",
    "    else:\n",
    "        return np.array([np.nan,np.nan])\n",
    "                 \n",
    "                 \n",
    "        \n",
    "\n",
    "\"\"\"\n",
    "RRT\n",
    "\"\"\"\n",
    "\n",
    "\n",
    "def RRT(start,goal,max_iterations = Max_iter,step_size = step_size_t):\n",
    "    tree =[start]\n",
    "    for _ in range(1,max_iterations):\n",
    "        latest_node = tree[-1]\n",
    "        rand_point = generate_random_point(latest_node,goal)\n",
    "        nearest_node = find_nearest_node(tree,rand_point)\n",
    "        new_node = extend_tree(tree,nearest_node,rand_point,goal,step_size)\n",
    "        \n",
    "        if (np.isnan(new_node[0]) and np.isnan(new_node[1])):\n",
    "            continue\n",
    "            \n",
    "        elif np.allclose(new_node,goal):\n",
    "            tree.append(new_node)\n",
    "            return tree\n",
    "        tree.append(new_node)\n",
    "    return tree\n",
    "    \n",
    "            \n",
    "            \n",
    "        \n",
    "    \n",
    "\n",
    "\"\"\"\n",
    "plotm RRT\n",
    "\"\"\"\n",
    "\n",
    "def plot_shortest_path(tree, start, goal):\n",
    "    # shortest_path = find_shortest_path(tree, start, goal)\n",
    "    # shortest_path = find_short_path(tree, start, goal, obstacles)\n",
    "    # print(shortest_path)\n",
    "    plt.figure(figsize=(8, 6))\n",
    "    # Plot obstacles\n",
    "    for obstacle in obstacles:\n",
    "        plt.plot(obstacle[0], obstacle[1], 'ks', markersize=OBSTACLE_THRESHOLD)\n",
    "    plt.plot([],[] , 'ks', label='Obstacles')\n",
    "    # Plot RRT tree\n",
    "    for i in range(len(tree) - 1):\n",
    "        plt.plot([tree[i][0], tree[i+1][0]], [tree[i][1], tree[i+1][1]], color='b',linestyle='dashed',marker ='o')\n",
    "    # Plot shortest path\n",
    "    plt.plot([],[],color='b',linestyle='dashed',label='RRT',marker='o')\n",
    "    # for i in range(len(shortest_path) - 1):\n",
    "    #     plt.plot([shortest_path[i][0], shortest_path[i+1][0]], [shortest_path[i][1], shortest_path[i+1][1]], 'r-', linewidth=2)\n",
    "    # plt.plot([], [], 'r-',linewidth=2, label='opt_path')\n",
    "    plt.plot(start[0], start[1], 'go', markersize=5,label='start') # start green start\n",
    "    plt.plot(goal[0], goal[1], 'ro', markersize=5,label='goal')\n",
    "    plt.xlim(0, GRID_SIZE)\n",
    "    plt.ylim(0, GRID_SIZE)\n",
    "    plt.xlabel('X')\n",
    "    plt.ylabel('Y')\n",
    "    plt.title(f'Shortest Path with Obstacles - Thershold - {OBSTACLE_THRESHOLD} , Obsatcles = {len(obstacles)} -Step_size = {step_size_t}')\n",
    "    # plt.tight_layout()\n",
    "    plt.legend(frameon=False, loc='upper left', bbox_to_anchor=(1,1))\n",
    "    # plt.savefig(f\"obs_{len(obstacles)}_thersh_{OBSTACLE_THRESHOLD}_step_{step_size_t}.png\",dpi=300)\n",
    "    plt.show()\n",
    "\n",
    "\n",
    "path = RRT(start,goal)\n",
    "plot_shortest_path(path,start,goal)"
   ]
  },
  {
   "cell_type": "code",
   "execution_count": null,
   "id": "5d186fbd-134f-4b31-9cc6-f82b9348076d",
   "metadata": {
    "tags": []
   },
   "outputs": [],
   "source": [
    "start"
   ]
  },
  {
   "cell_type": "code",
   "execution_count": null,
   "id": "ee3c2770-c1e1-4679-8090-bef486ff3fed",
   "metadata": {
    "tags": []
   },
   "outputs": [],
   "source": [
    "goal"
   ]
  },
  {
   "cell_type": "code",
   "execution_count": null,
   "id": "4994cbc5-d10d-4031-bc62-25e4bd80203b",
   "metadata": {
    "tags": []
   },
   "outputs": [],
   "source": [
    "path"
   ]
  },
  {
   "cell_type": "code",
   "execution_count": 50,
   "id": "5e17bd5e-dc1b-4b41-bdaf-6b6c1fb9aa2c",
   "metadata": {},
   "outputs": [],
   "source": [
    "yy = np.random.rand(2)"
   ]
  },
  {
   "cell_type": "code",
   "execution_count": 52,
   "id": "5fade87b-9ec4-4f6e-b8b7-6ea7c96eb9d5",
   "metadata": {
    "tags": []
   },
   "outputs": [
    {
     "data": {
      "text/plain": [
       "array([0.77800703, 0.53191841])"
      ]
     },
     "execution_count": 52,
     "metadata": {},
     "output_type": "execute_result"
    }
   ],
   "source": [
    "yy"
   ]
  },
  {
   "cell_type": "code",
   "execution_count": 39,
   "id": "a2612428-cdaa-453c-8b18-4d90e25ee8ac",
   "metadata": {
    "tags": []
   },
   "outputs": [],
   "source": [
    "j = np.array([1,8])\n",
    "k = np.array([9,5])\n",
    "jk = (j - k) / np.linalg.norm(j - k)\n"
   ]
  },
  {
   "cell_type": "code",
   "execution_count": 41,
   "id": "5d6cb395-d376-4a89-9b6c-5558f5364b29",
   "metadata": {
    "tags": []
   },
   "outputs": [
    {
     "data": {
      "text/plain": [
       "array([-0.93632918,  0.35112344])"
      ]
     },
     "execution_count": 41,
     "metadata": {},
     "output_type": "execute_result"
    }
   ],
   "source": [
    "jk"
   ]
  },
  {
   "cell_type": "code",
   "execution_count": 43,
   "id": "9f8faf93-1d72-4b03-92ac-02c6983f281b",
   "metadata": {
    "tags": []
   },
   "outputs": [
    {
     "data": {
      "text/plain": [
       "array([7.14928367, 5.46198288])"
      ]
     },
     "execution_count": 43,
     "metadata": {},
     "output_type": "execute_result"
    }
   ],
   "source": [
    "k + yy * 5 * jk"
   ]
  },
  {
   "cell_type": "code",
   "execution_count": null,
   "id": "4466d3a2-55fc-427d-b461-16539f337c19",
   "metadata": {
    "tags": []
   },
   "outputs": [],
   "source": [
    "np.linalg.norm(yy * 5)"
   ]
  },
  {
   "cell_type": "code",
   "execution_count": null,
   "id": "3cb31db9-5e13-408c-819b-b8e66df895e5",
   "metadata": {
    "tags": []
   },
   "outputs": [],
   "source": [
    "np.linalg.norm(yy * 5 * jk)"
   ]
  },
  {
   "cell_type": "code",
   "execution_count": null,
   "id": "2d1477f1-d64e-45aa-beda-c4bc0896086c",
   "metadata": {
    "tags": []
   },
   "outputs": [],
   "source": [
    "yyy = yy * 5"
   ]
  },
  {
   "cell_type": "code",
   "execution_count": null,
   "id": "d14628b2-e579-4625-bcf3-0a897df39bdf",
   "metadata": {
    "tags": []
   },
   "outputs": [],
   "source": [
    "np.sqrt(yyy[0]  ** 2  + yyy[1] **2 * 25)"
   ]
  },
  {
   "cell_type": "code",
   "execution_count": null,
   "id": "eafaeffe-65fe-4793-8980-4d4e5b9c315e",
   "metadata": {
    "tags": []
   },
   "outputs": [],
   "source": [
    "np.linalg.norm(jk)"
   ]
  },
  {
   "cell_type": "code",
   "execution_count": null,
   "id": "3f54ae74-841f-4b58-8129-d0307992a6e2",
   "metadata": {
    "tags": []
   },
   "outputs": [],
   "source": [
    "yy * 5 * jk"
   ]
  },
  {
   "cell_type": "code",
   "execution_count": null,
   "id": "c5f9f205-f8b9-4bb3-8040-fd084c14c53a",
   "metadata": {
    "tags": []
   },
   "outputs": [],
   "source": [
    "jk[1] * yy[1] * 5"
   ]
  },
  {
   "cell_type": "code",
   "execution_count": null,
   "id": "058c52c0-2a63-44c0-90ea-364ae8748300",
   "metadata": {},
   "outputs": [],
   "source": []
  }
 ],
 "metadata": {
  "kernelspec": {
   "display_name": "Python 3 (ipykernel)",
   "language": "python",
   "name": "python3"
  },
  "language_info": {
   "codemirror_mode": {
    "name": "ipython",
    "version": 3
   },
   "file_extension": ".py",
   "mimetype": "text/x-python",
   "name": "python",
   "nbconvert_exporter": "python",
   "pygments_lexer": "ipython3",
   "version": "3.11.7"
  }
 },
 "nbformat": 4,
 "nbformat_minor": 5
}
